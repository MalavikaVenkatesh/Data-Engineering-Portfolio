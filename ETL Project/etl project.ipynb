{
 "cells": [
  {
   "cell_type": "code",
   "execution_count": 39,
   "metadata": {},
   "outputs": [],
   "source": [
    "import os\n",
    "import sys\n",
    "os.environ[\"PYSPARK_PYTHON\"] = \"/opt/cloudera/parcels/Anaconda/bin/python\"\n",
    "os.environ[\"JAVA_HOME\"] = \"/usr/java/jdk1.8.0_232-cloudera/jre\"\n",
    "os.environ[\"SPARK_HOME\"]=\"/opt/cloudera/parcels/SPARK2-2.3.0.cloudera2-1.cdh5.13.3.p0.316101/lib/spark2/\"\n",
    "os.environ[\"PYLIB\"] = os.environ[\"SPARK_HOME\"] + \"/python/lib\"\n",
    "sys.path.insert(0, os.environ[\"PYLIB\"] +\"/py4j-0.10.6-src.zip\")\n",
    "sys.path.insert(0, os.environ[\"PYLIB\"] +\"/pyspark.zip\")"
   ]
  },
  {
   "cell_type": "code",
   "execution_count": 42,
   "metadata": {},
   "outputs": [],
   "source": [
    "from pyspark.sql import SparkSession\n",
    "import pandas as pd\n",
    "import numpy as np\n",
    "from pyspark.sql.types import StructType, StructField, IntegerType, StringType, BooleanType, DoubleType, LongType , TimestampType"
   ]
  },
  {
   "cell_type": "code",
   "execution_count": 43,
   "metadata": {},
   "outputs": [],
   "source": [
    "from pyspark import SparkContext, SparkConf\n"
   ]
  },
  {
   "cell_type": "code",
   "execution_count": 44,
   "metadata": {},
   "outputs": [
    {
     "data": {
      "text/html": [
       "\n",
       "            <div>\n",
       "                <p><b>SparkSession - hive</b></p>\n",
       "                \n",
       "        <div>\n",
       "            <p><b>SparkContext</b></p>\n",
       "\n",
       "            <p><a href=\"http://ip-10-0-0-110.ec2.internal:4040\">Spark UI</a></p>\n",
       "\n",
       "            <dl>\n",
       "              <dt>Version</dt>\n",
       "                <dd><code>v2.3.0.cloudera2</code></dd>\n",
       "              <dt>Master</dt>\n",
       "                <dd><code>local</code></dd>\n",
       "              <dt>AppName</dt>\n",
       "                <dd><code>demo</code></dd>\n",
       "            </dl>\n",
       "        </div>\n",
       "        \n",
       "            </div>\n",
       "        "
      ],
      "text/plain": [
       "<pyspark.sql.session.SparkSession at 0x7f2cc267a590>"
      ]
     },
     "execution_count": 44,
     "metadata": {},
     "output_type": "execute_result"
    }
   ],
   "source": [
    "spark = SparkSession.builder.appName('demo').master(\"local\").enableHiveSupport().getOrCreate()\n",
    "spark"
   ]
  },
  {
   "cell_type": "code",
   "execution_count": 45,
   "metadata": {},
   "outputs": [],
   "source": [
    "transformation_schema1 = StructType([StructField('year',IntegerType(),True),\n",
    "                        StructField('month',StringType(),True),\n",
    "                        StructField('day',IntegerType(),True),\n",
    "                        StructField('weekday',StringType(),True),\n",
    "                        StructField('hour',IntegerType(),True),\n",
    "                        StructField('atm_status',StringType(),True),\n",
    "                        StructField('atm_id',StringType(),True),\n",
    "                        StructField('atm_manufacturer',StringType(),True),\n",
    "                        StructField('atm_location',StringType(),True),\n",
    "                        StructField('atm_streetname',StringType(),True),\n",
    "                        StructField('atm_street_number',IntegerType(),True),\n",
    "                        StructField('atm_zipcode',IntegerType(),True),\n",
    "                        StructField('atm_lat',DoubleType(),True),\n",
    "                        StructField('atm_lon',DoubleType(),True),\n",
    "                        StructField('currency',StringType(),True),\n",
    "                        StructField('card_type',StringType(),True),\n",
    "                        StructField('transaction_amount',IntegerType(),True), \n",
    "                        StructField('service',StringType(),True),\n",
    "                        StructField('message_code',StringType(),True),\n",
    "                        StructField('message_text',StringType(),True),\n",
    "                        StructField('weather_lat',DoubleType(),True),\n",
    "                        StructField('weather_lon',DoubleType(),True),\n",
    "                        StructField('weather_city_id',IntegerType(),True),\n",
    "                        StructField('weather_city_name',StringType(),True), \n",
    "                        StructField('temp',DoubleType(),True),\n",
    "                        StructField('pressure',IntegerType(),True),\n",
    "                        StructField('humidity',IntegerType(),True),\n",
    "                        StructField('wind_speed',IntegerType(),True),\n",
    "                        StructField('wind_deg',IntegerType(),True),\n",
    "                        StructField('rain_3h',DoubleType(),True),\n",
    "                        StructField('clouds_all',IntegerType(),True),\n",
    "                        StructField('weather_id',IntegerType(),True),\n",
    "                        StructField('weather_main',StringType(),True),\n",
    "                        StructField('weather_description',StringType(),True)])"
   ]
  },
  {
   "cell_type": "code",
   "execution_count": 46,
   "metadata": {},
   "outputs": [],
   "source": [
    "df=spark.read.format(\"csv\").option(\"quote\", \"\").option(\"ignoreLeadingWhiteSpace\",\"true\").load(\"/user/root/SRC_ATM_TRANS/part-m-00000\",schema=transformation_schema1)"
   ]
  },
  {
   "cell_type": "code",
   "execution_count": 47,
   "metadata": {},
   "outputs": [
    {
     "data": {
      "text/plain": [
       "DataFrame[year: int, month: string, day: int, weekday: string, hour: int, atm_status: string, atm_id: string, atm_manufacturer: string, atm_location: string, atm_streetname: string, atm_street_number: int, atm_zipcode: int, atm_lat: double, atm_lon: double, currency: string, card_type: string, transaction_amount: int, service: string, message_code: string, message_text: string, weather_lat: double, weather_lon: double, weather_city_id: int, weather_city_name: string, temp: double, pressure: int, humidity: int, wind_speed: int, wind_deg: int, rain_3h: double, clouds_all: int, weather_id: int, weather_main: string, weather_description: string]"
      ]
     },
     "execution_count": 47,
     "metadata": {},
     "output_type": "execute_result"
    }
   ],
   "source": [
    "df"
   ]
  },
  {
   "cell_type": "code",
   "execution_count": 48,
   "metadata": {},
   "outputs": [
    {
     "name": "stdout",
     "output_type": "stream",
     "text": [
      "+----+-------+---+-------+----+----------+------+----------------+------------------+--------------------+-----------------+-----------+-------+-------+--------+--------------------+------------------+----------+------------+------------+-----------+-----------+---------------+-----------------+------+--------+--------+----------+--------+-------+----------+----------+------------+--------------------+\n",
      "|year|  month|day|weekday|hour|atm_status|atm_id|atm_manufacturer|      atm_location|      atm_streetname|atm_street_number|atm_zipcode|atm_lat|atm_lon|currency|           card_type|transaction_amount|   service|message_code|message_text|weather_lat|weather_lon|weather_city_id|weather_city_name|  temp|pressure|humidity|wind_speed|wind_deg|rain_3h|clouds_all|weather_id|weather_main| weather_description|\n",
      "+----+-------+---+-------+----+----------+------+----------------+------------------+--------------------+-----------------+-----------+-------+-------+--------+--------------------+------------------+----------+------------+------------+-----------+-----------+---------------+-----------------+------+--------+--------+----------+--------+-------+----------+----------+------------+--------------------+\n",
      "|2017|January|  1| Sunday|   0|    Active|     1|             NCR|        NÃƒÂ¦stved|         Farimagsvej|                8|       4700| 55.233| 11.763|     DKK|          MasterCard|              5643|Withdrawal|        null|        null|      55.23|     11.761|        2616038|         Naestved|281.15|    1014|      87|         7|     260|  0.215|        92|       500|        Rain|          light rain|\n",
      "|2017|January|  1| Sunday|   0|  Inactive|     2|             NCR|          Vejgaard|          Hadsundvej|               20|       9000| 57.043|   9.95|     DKK|          MasterCard|              1764|Withdrawal|        null|        null|     57.048|      9.935|        2616235|   NÃƒÂ¸rresundby|280.64|    1020|      93|         9|     250|   0.59|        92|       500|        Rain|          light rain|\n",
      "|2017|January|  1| Sunday|   0|  Inactive|     2|             NCR|          Vejgaard|          Hadsundvej|               20|       9000| 57.043|   9.95|     DKK|                VISA|              1891|Withdrawal|        null|        null|     57.048|      9.935|        2616235|   NÃƒÂ¸rresundby|280.64|    1020|      93|         9|     250|   0.59|        92|       500|        Rain|          light rain|\n",
      "|2017|January|  1| Sunday|   0|  Inactive|     3|             NCR|             Ikast| RÃƒÂ¥dhusstrÃƒÂ¦det|               12|       7430| 56.139|  9.154|     DKK|                VISA|              4166|Withdrawal|        null|        null|     56.139|      9.158|        2619426|            Ikast|281.15|    1011|     100|         6|     240|    0.0|        75|       300|     Drizzle|light intensity d...|\n",
      "|2017|January|  1| Sunday|   0|    Active|     4|             NCR|        Svogerslev|        BrÃƒÂ¸nsager|                1|       4000| 55.634| 12.018|     DKK|          MasterCard|              5153|Withdrawal|        null|        null|     55.642|      12.08|        2614481|         Roskilde|280.61|    1014|      87|         7|     260|    0.0|        88|       701|        Mist|                mist|\n",
      "|2017|January|  1| Sunday|   0|    Active|     5|             NCR|              Nibe|              Torvet|                1|       9240| 56.983|  9.639|     DKK|          MasterCard|              3269|Withdrawal|        null|        null|     56.981|      9.639|        2616483|             Nibe|280.64|    1020|      93|         9|     250|   0.59|        92|       500|        Rain|          light rain|\n",
      "|2017|January|  1| Sunday|   0|    Active|     6|             NCR|        Fredericia|    SjÃƒÂ¦llandsgade|               33|       7000| 55.564|  9.757|     DKK|          MasterCard|               887|Withdrawal|        null|        null|     55.566|      9.753|        2621951|       Fredericia|281.15|    1014|      93|         7|     230|   0.29|        92|       500|        Rain|          light rain|\n",
      "|2017|January|  1| Sunday|   0|    Active|     7| Diebold Nixdorf|         Hjallerup|   Hjallerup Centret|               18|       9320| 57.168| 10.148|     DKK|  Mastercard - on-us|              4626|Withdrawal|        null|        null|     57.165|     10.146|        2620275|        Hjallerup|280.64|    1020|      93|         9|     250|   0.59|        92|       500|        Rain|          light rain|\n",
      "|2017|January|  1| Sunday|   0|    Active|     8|             NCR|       GlyngÃƒÂ¸re|         FÃƒÂ¦rgevej|                1|       7870| 56.762|  8.867|     DKK|          MasterCard|               470|Withdrawal|        null|        null|     56.793|      8.853|        2615964|    Nykobing Mors|281.15|    1011|     100|         6|     240|    0.0|        75|       300|     Drizzle|light intensity d...|\n",
      "|2017|January|  1| Sunday|   0|    Active|     9| Diebold Nixdorf|           Hadsund|           Storegade|               12|       9560| 56.716| 10.114|     DKK|                VISA|              8473|Withdrawal|        null|        null|     56.715|     10.117|        2620952|          Hadsund|280.64|    1020|      93|         9|     250|   0.59|        92|       500|        Rain|          light rain|\n",
      "|2017|January|  1| Sunday|   0|    Active|    10|             NCR|    NÃƒÂ¸rresundby|              Torvet|                6|       9400| 57.059|  9.922|     DKK|             Dankort|               953|Withdrawal|        null|        null|     57.048|      9.919|        2624886|          Aalborg|280.64|    1020|      93|         9|     250|   0.59|        92|       500|        Rain|          light rain|\n",
      "|2017|January|  1| Sunday|   0|    Active|    11|             NCR|         Sauersvej|Fridtjof Nansens Vej|                2|       9210| 57.023|   9.94|     DKK|        Visa Dankort|              9346|Withdrawal|        null|        null|     57.048|      9.935|        2616235|   NÃƒÂ¸rresundby|280.64|    1020|      93|         9|     250|   0.59|        92|       500|        Rain|          light rain|\n",
      "|2017|January|  1| Sunday|   0|  Inactive|     2|             NCR|          Vejgaard|          Hadsundvej|               20|       9000| 57.043|   9.95|     DKK|  Mastercard - on-us|              3874|Withdrawal|        null|        null|     57.048|      9.935|        2616235|   NÃƒÂ¸rresundby|280.64|    1020|      93|         9|     250|   0.59|        92|       500|        Rain|          light rain|\n",
      "|2017|January|  1| Sunday|   0|  Inactive|    12|             NCR|ÃƒËœsterÃƒÂ¥  Duus|        ÃƒËœsterÃƒÂ¥|               12|       9000| 57.049|  9.922|     DKK|  Mastercard - on-us|              1329|Withdrawal|        null|        null|     57.048|      9.919|        2624886|          Aalborg|280.64|    1020|      93|         9|     250|   0.59|        92|       500|        Rain|          light rain|\n",
      "|2017|January|  1| Sunday|   0|    Active|    13|             NCR|           SÃƒÂ¦by|          Vestergade|                3|       9300| 57.334| 10.515|     DKK|  Mastercard - on-us|              5024|Withdrawal|        null|        null|     57.441|     10.537|        2621927|    Frederikshavn|281.14|    1019|      94|        12|     251|  1.275|        92|       500|        Rain|          light rain|\n",
      "|2017|January|  1| Sunday|   0|  Inactive|    14|             NCR|        HÃƒÂ¸rning|        NÃƒÂ¸rrealle|               12|       8362| 56.086| 10.037|     DKK|Visa Dankort - on-us|              1133|Withdrawal|        null|        null|     56.157|     10.211|        2624652|            Arhus|281.15|    1012|      87|         5|     250|    0.0|        92|       300|     Drizzle|light intensity d...|\n",
      "|2017|January|  1| Sunday|   0|    Active|    15|             NCR|            Vestre|           Kastetvej|               36|       9000| 57.053|  9.905|     DKK|          MasterCard|               594|Withdrawal|        null|        null|     57.048|      9.919|        2624886|          Aalborg|280.64|    1020|      93|         9|     250|   0.59|        92|       500|        Rain|          light rain|\n",
      "|2017|January|  1| Sunday|   0|  Inactive|    12|             NCR|ÃƒËœsterÃƒÂ¥  Duus|        ÃƒËœsterÃƒÂ¥|               12|       9000| 57.049|  9.922|     DKK|  Mastercard - on-us|              9570|Withdrawal|        null|        null|     57.048|      9.919|        2624886|          Aalborg|280.64|    1020|      93|         9|     250|   0.59|        92|       500|        Rain|          light rain|\n",
      "|2017|January|  1| Sunday|   0|  Inactive|    16|             NCR|             Skive|            Adelgade|                8|       7800| 56.567|  9.027|     DKK|        Visa Dankort|              6068|Withdrawal|        null|        null|     56.567|      9.033|        2613731|            Skive|281.15|    1012|     100|         7|     240|    0.0|        75|       300|     Drizzle|light intensity d...|\n",
      "|2017|January|  1| Sunday|   0|    Active|    17|             NCR|           Randers|        ÃƒËœstervold|               16|       8900| 56.462| 10.038|     DKK|                VISA|              1630|Withdrawal|        null|        null|     56.715|     10.117|        2620952|          Hadsund|280.64|    1020|      93|         9|     250|   0.59|        92|       500|        Rain|          light rain|\n",
      "+----+-------+---+-------+----+----------+------+----------------+------------------+--------------------+-----------------+-----------+-------+-------+--------+--------------------+------------------+----------+------------+------------+-----------+-----------+---------------+-----------------+------+--------+--------+----------+--------+-------+----------+----------+------------+--------------------+\n",
      "only showing top 20 rows\n",
      "\n"
     ]
    }
   ],
   "source": [
    "df.show()\n"
   ]
  },
  {
   "cell_type": "code",
   "execution_count": 49,
   "metadata": {},
   "outputs": [
    {
     "data": {
      "text/plain": [
       "2468572"
      ]
     },
     "execution_count": 49,
     "metadata": {},
     "output_type": "execute_result"
    }
   ],
   "source": [
    "df.count()"
   ]
  },
  {
   "cell_type": "code",
   "execution_count": 50,
   "metadata": {},
   "outputs": [
    {
     "data": {
      "text/plain": [
       "DataFrame[year: int, month: string, day: int, weekday: string, hour: int, atm_status: string, atm_id: string, atm_manufacturer: string, atm_location: string, atm_streetname: string, atm_street_number: int, atm_zipcode: int, atm_lat: double, atm_lon: double, currency: string, card_type: string, transaction_amount: int, service: string, message_code: string, message_text: string, weather_lat: double, weather_lon: double, weather_city_id: int, weather_city_name: string, temp: double, pressure: int, humidity: int, wind_speed: int, wind_deg: int, rain_3h: double, clouds_all: int, weather_id: int, weather_main: string, weather_description: string]"
      ]
     },
     "execution_count": 50,
     "metadata": {},
     "output_type": "execute_result"
    }
   ],
   "source": [
    "df.distinct()"
   ]
  },
  {
   "cell_type": "code",
   "execution_count": 51,
   "metadata": {},
   "outputs": [],
   "source": [
    "# Create dimen_location df\n",
    "dimen_location = df[df['atm_location'],df['atm_streetname'],df['atm_street_number'],df['atm_zipcode'],df['atm_lat'],df['atm_lon']]\n",
    "dimen_location = dimen_location.withColumnRenamed('atm_location', 'location')\\\n",
    ".withColumnRenamed('atm_streetname', 'streetname').withColumnRenamed('atm_street_number', 'street_number')\\\n",
    ".withColumnRenamed('atm_zipcode', 'zipcode').withColumnRenamed('atm_lat', 'lat').withColumnRenamed('atm_lon', 'lon')"
   ]
  },
  {
   "cell_type": "code",
   "execution_count": 52,
   "metadata": {},
   "outputs": [],
   "source": [
    "#drop the duplicates\n",
    "from pyspark.sql.functions import monotonically_increasing_id\n",
    "dimen_location = dimen_location.dropDuplicates(['location', 'streetname', 'street_number', 'zipcode'])\n",
    "dimen_location = dimen_location.withColumn('location_id', monotonically_increasing_id())"
   ]
  },
  {
   "cell_type": "code",
   "execution_count": 53,
   "metadata": {},
   "outputs": [
    {
     "data": {
      "text/plain": [
       "Row(location=u'Horsens', streetname=u'Gr\\xc3\\u0192\\xc2\\xb8nlandsvej', street_number=5, zipcode=8700, lat=55.859, lon=9.854, location_id=0)"
      ]
     },
     "execution_count": 53,
     "metadata": {},
     "output_type": "execute_result"
    }
   ],
   "source": [
    "dimen_location.head()"
   ]
  },
  {
   "cell_type": "code",
   "execution_count": 54,
   "metadata": {},
   "outputs": [
    {
     "data": {
      "text/plain": [
       "109"
      ]
     },
     "execution_count": 54,
     "metadata": {},
     "output_type": "execute_result"
    }
   ],
   "source": [
    "#check the count of records\n",
    "dimen_location.count()"
   ]
  },
  {
   "cell_type": "code",
   "execution_count": 55,
   "metadata": {},
   "outputs": [],
   "source": [
    "# Create dimen_card_type df\n",
    "dimen_card_type = df[['card_type']]\n",
    "dimen_card_type = dimen_card_type.dropDuplicates()"
   ]
  },
  {
   "cell_type": "code",
   "execution_count": 56,
   "metadata": {},
   "outputs": [],
   "source": [
    "#adding the primary key\n",
    "from pyspark.sql.functions import monotonically_increasing_id\n",
    "dimen_card_type = dimen_card_type.withColumn('card_type_id',monotonically_increasing_id())"
   ]
  },
  {
   "cell_type": "code",
   "execution_count": 57,
   "metadata": {},
   "outputs": [
    {
     "data": {
      "text/plain": [
       "Row(card_type=u'Dankort - on-us', card_type_id=17179869184)"
      ]
     },
     "execution_count": 57,
     "metadata": {},
     "output_type": "execute_result"
    }
   ],
   "source": [
    "dimen_card_type.head()"
   ]
  },
  {
   "cell_type": "code",
   "execution_count": 58,
   "metadata": {},
   "outputs": [
    {
     "data": {
      "text/plain": [
       "12"
      ]
     },
     "execution_count": 58,
     "metadata": {},
     "output_type": "execute_result"
    }
   ],
   "source": [
    "#check the count for dimen_card_type\n",
    "dimen_card_type.count()"
   ]
  },
  {
   "cell_type": "code",
   "execution_count": 59,
   "metadata": {},
   "outputs": [],
   "source": [
    "#create dimen_atm df\n",
    "atm_temp = df[df['atm_id'],df['atm_manufacturer']]\n",
    "cond = [df.atm_lat == dimen_location.lat, df.atm_lon == dimen_location.lon]\n",
    "atm_temp = df.join(dimen_location, cond)\n",
    "dimen_atm = atm_temp[atm_temp['atm_id'],atm_temp['atm_manufacturer'], atm_temp['location_id']]\n",
    "dimen_atm = dimen_atm.withColumn('atm_number', dimen_atm['atm_id'])\n",
    "dimen_atm = dimen_atm.withColumnRenamed('location_id', 'atm_location_id')"
   ]
  },
  {
   "cell_type": "code",
   "execution_count": 60,
   "metadata": {},
   "outputs": [],
   "source": [
    "dimen_atm = dimen_atm.drop_duplicates()"
   ]
  },
  {
   "cell_type": "code",
   "execution_count": 61,
   "metadata": {},
   "outputs": [
    {
     "data": {
      "text/plain": [
       "156"
      ]
     },
     "execution_count": 61,
     "metadata": {},
     "output_type": "execute_result"
    }
   ],
   "source": [
    "#check count for dimen_atm\n",
    "dimen_atm.count()"
   ]
  },
  {
   "cell_type": "code",
   "execution_count": 62,
   "metadata": {},
   "outputs": [
    {
     "data": {
      "text/plain": [
       "Row(atm_id=u'104', atm_manufacturer=u'NCR', atm_location_id=309237645312, atm_number=u'104')"
      ]
     },
     "execution_count": 62,
     "metadata": {},
     "output_type": "execute_result"
    }
   ],
   "source": [
    "dimen_atm.head()"
   ]
  },
  {
   "cell_type": "code",
   "execution_count": 63,
   "metadata": {},
   "outputs": [],
   "source": [
    "#create dimen_date df\n",
    "from pyspark.sql.functions import *\n",
    "dimen_date = df[df['year'], df['month'], df['day'], df['hour'], df['weekday']]\n",
    "dimen_date = dimen_date.dropDuplicates()\n",
    "dimen_date = dimen_date.withColumn('full_date_time',to_date(concat_ws('-', df.year, df.month,df.day)))\n",
    "dimen_date = dimen_date.withColumn('date_id', monotonically_increasing_id())"
   ]
  },
  {
   "cell_type": "code",
   "execution_count": 64,
   "metadata": {},
   "outputs": [
    {
     "data": {
      "text/plain": [
       "8685"
      ]
     },
     "execution_count": 64,
     "metadata": {},
     "output_type": "execute_result"
    }
   ],
   "source": [
    "dimen_date.count()"
   ]
  },
  {
   "cell_type": "code",
   "execution_count": 65,
   "metadata": {},
   "outputs": [
    {
     "data": {
      "text/plain": [
       "Row(year=2017, month=u'January', day=1, hour=9, weekday=u'Sunday', full_date_time=None, date_id=0)"
      ]
     },
     "execution_count": 65,
     "metadata": {},
     "output_type": "execute_result"
    }
   ],
   "source": [
    "dimen_date.head()"
   ]
  },
  {
   "cell_type": "code",
   "execution_count": 66,
   "metadata": {},
   "outputs": [],
   "source": [
    "# Create FACT_ATM_TRANS\n",
    "fact_atm_trans = df\n",
    "fact_atm_trans = fact_atm_trans.withColumn('trans_id', monotonically_increasing_id())"
   ]
  },
  {
   "cell_type": "code",
   "execution_count": 67,
   "metadata": {},
   "outputs": [],
   "source": [
    "# Join with Dimen_location\n",
    "dim_cond = [df.atm_lat == dimen_location.lat, df.atm_lon == dimen_location.lon]\n",
    "fact_atm_trans = fact_atm_trans.join(dimen_location, dim_cond, 'left')\n"
   ]
  },
  {
   "cell_type": "code",
   "execution_count": 68,
   "metadata": {},
   "outputs": [],
   "source": [
    "# Rename location_id to weather_loc_id\n",
    "fact_atm_trans = fact_atm_trans.withColumnRenamed('location_id', 'weather_loc_id')"
   ]
  },
  {
   "cell_type": "code",
   "execution_count": 69,
   "metadata": {},
   "outputs": [],
   "source": [
    "fact_atm_trans = fact_atm_trans.dropDuplicates(['trans_id'])"
   ]
  },
  {
   "cell_type": "code",
   "execution_count": 70,
   "metadata": {},
   "outputs": [],
   "source": [
    "# Join with Dimen_atm\n",
    "fact_atm_trans = fact_atm_trans.join(dimen_atm[['atm_number', 'atm_manufacturer', 'atm_location_id']], fact_atm_trans.atm_id == dimen_atm.atm_number, 'left')"
   ]
  },
  {
   "cell_type": "code",
   "execution_count": 71,
   "metadata": {},
   "outputs": [],
   "source": [
    "fact_atm_trans = fact_atm_trans.dropDuplicates(['trans_id'])"
   ]
  },
  {
   "cell_type": "code",
   "execution_count": 72,
   "metadata": {},
   "outputs": [],
   "source": [
    "# Join with dimen_date\n",
    "date_cond = [fact_atm_trans.year == dimen_date.year, fact_atm_trans.month == dimen_date.month, \\\n",
    "            fact_atm_trans.day == dimen_date.day, fact_atm_trans.hour == dimen_date.hour, \\\n",
    "            fact_atm_trans.weekday == dimen_date.weekday]\n",
    "fact_atm_trans = fact_atm_trans.join(dimen_date, date_cond, 'left')"
   ]
  },
  {
   "cell_type": "code",
   "execution_count": 73,
   "metadata": {},
   "outputs": [],
   "source": [
    "fact_atm_trans = fact_atm_trans.dropDuplicates(['trans_id'])"
   ]
  },
  {
   "cell_type": "code",
   "execution_count": 74,
   "metadata": {},
   "outputs": [],
   "source": [
    "# Join with Dimen_card_type\n",
    "fact_atm_trans = fact_atm_trans.join(dimen_card_type, fact_atm_trans.card_type == dimen_card_type.card_type, 'left')"
   ]
  },
  {
   "cell_type": "code",
   "execution_count": 75,
   "metadata": {},
   "outputs": [],
   "source": [
    "fact_atm_trans = fact_atm_trans.dropDuplicates(['trans_id'])"
   ]
  },
  {
   "cell_type": "code",
   "execution_count": 76,
   "metadata": {},
   "outputs": [],
   "source": [
    "# Remove unnecessary columns\n",
    "fact_atm_trans_temp = fact_atm_trans[['trans_id','atm_id', 'weather_loc_id', 'date_id', 'card_type_id', 'atm_status', \\\n",
    "                                'currency', 'service', 'transaction_amount', 'message_code', 'message_text', \\\n",
    "                                'rain_3h', 'clouds_all', 'weather_id', 'weather_main', 'weather_description']]"
   ]
  },
  {
   "cell_type": "code",
   "execution_count": 77,
   "metadata": {},
   "outputs": [
    {
     "data": {
      "text/plain": [
       "[Row(trans_id=26, atm_id=u'20', weather_loc_id=841813590016, date_id=1649267441664, card_type_id=1056561954816, atm_status=u'Active', currency=u'DKK', service=u'Withdrawal', transaction_amount=7573, message_code=None, message_text=None, rain_3h=1.26, clouds_all=92, weather_id=500, weather_main=u'Rain', weather_description=u'light rain'),\n",
       " Row(trans_id=29, atm_id=u'21', weather_loc_id=309237645312, date_id=1649267441664, card_type_id=326417514496, atm_status=u'Active', currency=u'DKK', service=u'Withdrawal', transaction_amount=4607, message_code=None, message_text=None, rain_3h=0.59, clouds_all=92, weather_id=500, weather_main=u'Rain', weather_description=u'light rain'),\n",
       " Row(trans_id=474, atm_id=u'27', weather_loc_id=609885356032, date_id=1494648619008, card_type_id=566935683072, atm_status=u'Active', currency=u'DKK', service=u'Withdrawal', transaction_amount=3124, message_code=None, message_text=None, rain_3h=0.0, clouds_all=75, weather_id=301, weather_main=u'Drizzle', weather_description=u'drizzle'),\n",
       " Row(trans_id=964, atm_id=u'16', weather_loc_id=317827579904, date_id=1400159338496, card_type_id=326417514496, atm_status=u'Inactive', currency=u'DKK', service=u'Withdrawal', transaction_amount=7369, message_code=None, message_text=None, rain_3h=0.0, clouds_all=0, weather_id=800, weather_main=u'Clear', weather_description=u'Sky is Clear'),\n",
       " Row(trans_id=1677, atm_id=u'47', weather_loc_id=446676598785, date_id=609885356032, card_type_id=652835028992, atm_status=u'Active', currency=u'DKK', service=u'Withdrawal', transaction_amount=5802, message_code=None, message_text=None, rain_3h=0.0, clouds_all=75, weather_id=803, weather_main=u'Clouds', weather_description=u'broken clouds')]"
      ]
     },
     "execution_count": 77,
     "metadata": {},
     "output_type": "execute_result"
    }
   ],
   "source": [
    "fact_atm_trans_temp.head(5)"
   ]
  },
  {
   "cell_type": "markdown",
   "metadata": {},
   "source": [
    "# LOADING TABLES TO S3"
   ]
  },
  {
   "cell_type": "code",
   "execution_count": 96,
   "metadata": {},
   "outputs": [],
   "source": [
    "#loading dimen_location to S3\n",
    "dimen_location.write.csv(\"s3a://malus.bucket/dimen_location\", sep=\"|\",mode='overwrite')"
   ]
  },
  {
   "cell_type": "code",
   "execution_count": 97,
   "metadata": {},
   "outputs": [],
   "source": [
    "#loading dimen_card_type to S3\n",
    "dimen_card_type.write.csv(\"s3a://malus.bucket/dimen_card_type\", sep=\"|\",mode='overwrite')"
   ]
  },
  {
   "cell_type": "code",
   "execution_count": 99,
   "metadata": {},
   "outputs": [],
   "source": [
    "#loading dimen_atm to S3\n",
    "dimen_atm.write.csv(\"s3a://malus.bucket/dimen_atm\", sep=\"|\",mode='overwrite')"
   ]
  },
  {
   "cell_type": "code",
   "execution_count": 100,
   "metadata": {},
   "outputs": [],
   "source": [
    "#loading dimen_date to S3\n",
    "dimen_date.write.csv(\"s3a://malus.bucket/dimen_date\", sep=\"|\",mode='overwrite')"
   ]
  },
  {
   "cell_type": "code",
   "execution_count": 101,
   "metadata": {},
   "outputs": [],
   "source": [
    "#loading fact_atm_trans table to S3\n",
    "fact_atm_trans_temp.write.csv(\"s3a://malus.bucket/fact_atm_trans\", sep=\"|\",mode='overwrite')"
   ]
  },
  {
   "cell_type": "code",
   "execution_count": null,
   "metadata": {},
   "outputs": [],
   "source": []
  }
 ],
 "metadata": {
  "kernelspec": {
   "display_name": "Python 2",
   "language": "python",
   "name": "python2"
  },
  "language_info": {
   "codemirror_mode": {
    "name": "ipython",
    "version": 2
   },
   "file_extension": ".py",
   "mimetype": "text/x-python",
   "name": "python",
   "nbconvert_exporter": "python",
   "pygments_lexer": "ipython2",
   "version": "2.7.16"
  }
 },
 "nbformat": 4,
 "nbformat_minor": 2
}
